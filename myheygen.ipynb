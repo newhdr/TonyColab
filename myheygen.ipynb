{
  "nbformat": 4,
  "nbformat_minor": 0,
  "metadata": {
    "colab": {
      "provenance": [],
      "gpuType": "T4",
      "machine_shape": "hm",
      "authorship_tag": "ABX9TyOlAIBlgwt/FlI2uDW+uLAj",
      "include_colab_link": true
    },
    "kernelspec": {
      "name": "python3",
      "display_name": "Python 3"
    },
    "language_info": {
      "name": "python"
    },
    "accelerator": "GPU"
  },
  "cells": [
    {
      "cell_type": "markdown",
      "metadata": {
        "id": "view-in-github",
        "colab_type": "text"
      },
      "source": [
        "<a href=\"https://colab.research.google.com/github/dream80/TonyColab/blob/master/myheygen.ipynb\" target=\"_parent\"><img src=\"https://colab.research.google.com/assets/colab-badge.svg\" alt=\"Open In Colab\"/></a>"
      ]
    },
    {
      "cell_type": "markdown",
      "source": [
        "# 脚本简介\n",
        "\n",
        "一个平民版heygen，视频翻译工具，音频翻译，翻译校正，视频唇纹合成全流程解决方案。\n",
        "[原项目](https://github.com/AIFSH/MyHeyGen)\n",
        "\n",
        "-------\n",
        "脚本制作：tony  \n",
        "使用教程: 公众号\"托尼不是塔克\"  \n",
        "博客地址：www.tonyisstark.com"
      ],
      "metadata": {
        "id": "YKzlmFD6HgG2"
      }
    },
    {
      "cell_type": "markdown",
      "source": [
        "# 克隆项目"
      ],
      "metadata": {
        "id": "oURcFqzyF0Oc"
      }
    },
    {
      "cell_type": "code",
      "execution_count": null,
      "metadata": {
        "id": "mg2Xo_TwRk6v"
      },
      "outputs": [],
      "source": [
        "#克隆项目\n",
        "!git clone https://github.com/AIFSH/MyHeyGen.git\n",
        "%cd MyHeyGen\n",
        "!git checkout f9c0906771d9afce321d86cd98823790f20a5706"
      ]
    },
    {
      "cell_type": "markdown",
      "source": [
        "# 安装依赖"
      ],
      "metadata": {
        "id": "B9Km5el8F66p"
      }
    },
    {
      "cell_type": "code",
      "source": [
        "!pip install TTS==0.20.6\n",
        "!pip install onnxruntime\n",
        "!pip install scenedetect\n",
        "#!pip install opencv-python\n",
        "!pip install ultralytics\n",
        "!pip install deepface\n",
        "!pip install numpy==1.24\n",
        "!pip install transformers\n",
        "#!pip install tensorflow==2.14\n",
        "!pip install pydub\n",
        "!pip install basicsr\n",
        "!pip install facexlib\n",
        "!pip install gfpgan\n",
        "!pip install audiostretchy\n",
        "!pip install ctranslate2\n",
        "!pip install faster_whisper\n",
        "!pip install ffmpeg_python==0.2.0\n",
        "!pip install pyannote.audio\n",
        "#!pip install moviepy"
      ],
      "metadata": {
        "id": "xXDCpt1Y6FLf"
      },
      "execution_count": null,
      "outputs": []
    },
    {
      "cell_type": "markdown",
      "source": [
        "# 准备模型\n",
        "\n",
        "这里需要用到很多模型，weights部分已经可以一键获取。  \n",
        "但是checkpoints部分，  \n",
        "需要先全部保存到自己的谷歌网盘，  \n",
        "\n",
        "https://drive.google.com/drive/folders/1ov31OfNqLrCuExryaGYwobmxHuGx3-km?usp=sharing  \n",
        "然后将文件夹命名为myheygen，  \n",
        "然后挂载网盘，  \n",
        "然后运行这里的代码"
      ],
      "metadata": {
        "id": "K02lHz8TGChX"
      }
    },
    {
      "cell_type": "code",
      "source": [
        "#获取weights.zip\n",
        "!gdown '1dYy24q_67TmVuv_PbChe2t1zpNYJci1J'"
      ],
      "metadata": {
        "id": "5dLGolbFei9c"
      },
      "execution_count": null,
      "outputs": []
    },
    {
      "cell_type": "code",
      "source": [
        "# @title\n",
        "#解压到指定文件夹\n",
        "!unzip weights.zip -d weights"
      ],
      "metadata": {
        "id": "beKf2Wp9iwmH"
      },
      "execution_count": null,
      "outputs": []
    },
    {
      "cell_type": "code",
      "source": [
        "#挂载后拷贝模型到指定文件夹 -r\n",
        "!cp /content/drive/MyDrive/myheygen/* /content/MyHeyGen/video-retalking"
      ],
      "metadata": {
        "id": "LLO5j7tegzmu",
        "colab": {
          "base_uri": "https://localhost:8080/"
        },
        "outputId": "26981d7c-6e20-4963-d3f0-4b92d3e4b705"
      },
      "execution_count": 5,
      "outputs": [
        {
          "output_type": "stream",
          "name": "stdout",
          "text": [
            "cp: cannot stat '/content/drive/MyDrive/myheygen/*': No such file or directory\n"
          ]
        }
      ]
    },
    {
      "cell_type": "code",
      "source": [
        "#拷贝GFPGANV1.4模型到指定路径\n",
        "!cp /content/MyHeyGen/weights/GFPGANv1.4.pth /content/MyHeyGen/video-retalking"
      ],
      "metadata": {
        "id": "I0gAhS0IkKbZ"
      },
      "execution_count": 6,
      "outputs": []
    },
    {
      "cell_type": "markdown",
      "source": [
        "# 创建输入目录"
      ],
      "metadata": {
        "id": "nP8DC3JFGLC2"
      }
    },
    {
      "cell_type": "code",
      "source": [
        "#创建目录\n",
        "!mkdir est\n",
        "\n",
        "#默认没有这个文件夹，项目也没有提，导致好几个\"文件不存在的错误\"，浪费了好多时间。"
      ],
      "metadata": {
        "id": "7bVRESmt4nq3"
      },
      "execution_count": 7,
      "outputs": []
    },
    {
      "cell_type": "markdown",
      "source": [
        "# 修改配置文件  \n",
        "需要修改4个地方！\n",
        "\n",
        "```\n",
        "{\n",
        "    \"DET_TRESH\": 0.3,\n",
        "    \"DIST_TRESH\": 0.2,\n",
        "    \"DB_NAME\": \"storage.db\",\n",
        "    \"HF_TOKEN\": \"修改\",\n",
        "    \"TS_APPID\": \"修改\",\n",
        "    \"TS_APPKEY\": \"修改\",\n",
        "    \"HUMAN_TRANS\": 0,\n",
        "    \"SPEAKER_NUM\": 3,\n",
        "    \"TTS_MODEL\":\"tts_models/multilingual/multi-dataset/xtts_v2\"\n",
        "}\n",
        "```\n",
        "\n",
        "\n"
      ],
      "metadata": {
        "id": "4o8TVXnv4Tp8"
      }
    },
    {
      "cell_type": "markdown",
      "source": [
        "# 开始转换"
      ],
      "metadata": {
        "id": "bMrjRTGiGXHo"
      }
    },
    {
      "cell_type": "code",
      "source": [
        "#src.mp4为源视频，zh-cn是指中文， out_zh.mp4为合成视频\n",
        "\n",
        "!python translate.py test/src.mp4 'zh-cn' -o est/out_zh.mp4"
      ],
      "metadata": {
        "id": "PtoybylVSc1p"
      },
      "execution_count": null,
      "outputs": []
    }
  ]
}